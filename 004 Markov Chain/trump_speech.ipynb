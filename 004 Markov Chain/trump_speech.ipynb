{
 "cells": [
  {
   "cell_type": "code",
   "execution_count": 2,
   "metadata": {},
   "outputs": [],
   "source": [
    "import numpy as np"
   ]
  },
  {
   "cell_type": "code",
   "execution_count": 4,
   "metadata": {},
   "outputs": [],
   "source": [
    "trump = open('speeches.txt', encoding='utf8').read()"
   ]
  },
  {
   "cell_type": "code",
   "execution_count": 5,
   "metadata": {},
   "outputs": [],
   "source": [
    "words = trump.split()"
   ]
  },
  {
   "cell_type": "code",
   "execution_count": 29,
   "metadata": {},
   "outputs": [],
   "source": [
    "def make_pairs(words):\n",
    "    pairs = []\n",
    "    for i in range(len(words)-1):\n",
    "        pairs.append((words[i], words[i+1]))\n",
    "    return pairs\n",
    "\n",
    "def make_pairs2(words):\n",
    "    pairs = []\n",
    "    for i in range(len(words)-2):\n",
    "        pairs.append((words[i], words[i+1], words[i+2]))\n",
    "    return pairs\n",
    "\n",
    "pairs = make_pairs(words)\n",
    "pairs2 = make_pairs2(words)"
   ]
  },
  {
   "cell_type": "code",
   "execution_count": 35,
   "metadata": {},
   "outputs": [],
   "source": [
    "words_dict = {}\n",
    "for word_1, word_2 in pairs:\n",
    "    if word_1 in words_dict.keys():\n",
    "        words_dict[word_1].append(word_2)\n",
    "    else:\n",
    "        words_dict[word_1] = [word_2]\n",
    "\n",
    "for word_1, word_2, word_3 in pairs2:\n",
    "    if (word_1, word_2) in words_dict.keys():\n",
    "        words_dict[(word_1, word_2)].append(word_3)\n",
    "    else:\n",
    "        words_dict[(word_1, word_2)] = [word_3]\n",
    "    "
   ]
  },
  {
   "cell_type": "code",
   "execution_count": 36,
   "metadata": {},
   "outputs": [],
   "source": [
    "first_word = np.random.choice(words)\n",
    "while first_word.islower():\n",
    "    first_word = np.random.choice(words)\n"
   ]
  },
  {
   "cell_type": "code",
   "execution_count": null,
   "metadata": {},
   "outputs": [],
   "source": []
  },
  {
   "cell_type": "code",
   "execution_count": 25,
   "metadata": {},
   "outputs": [],
   "source": [
    "new_sentence = [first_word]"
   ]
  },
  {
   "cell_type": "code",
   "execution_count": 26,
   "metadata": {},
   "outputs": [],
   "source": [
    "len_new_sentence = 50"
   ]
  },
  {
   "cell_type": "code",
   "execution_count": 40,
   "metadata": {},
   "outputs": [],
   "source": [
    "for i in range(len_new_sentence):\n",
    "    first_option = np.random.choice(words_dict[new_sentence[-1]])\n",
    "    second_option = np.random.choice(words_dict[new_sentence[-1], np.random.choice(words_dict[new_sentence[-1]])])\n",
    "    new_sentence.append(np.random.choice([first_option, second_option]))\n"
   ]
  },
  {
   "cell_type": "code",
   "execution_count": 41,
   "metadata": {},
   "outputs": [
    {
     "data": {
      "text/plain": [
       "'That was right on the people are leading big. And the American steel cages. And then we go into the sign $100 to do with everything. You’re CNN. Honestly. Because you noticed a massive that are marginalizing you. We’re going to win at a criminal media. And Carson was two. That\\'s the I’m to me. that people done And are who they \"What happened?\" they are, but a massive safe again. want to show I take a easier for what happens? So I say Christmas\" You do they’ve gone the generals on Islamic Mayor Rudy visited the and I \"Don’t even'"
      ]
     },
     "execution_count": 41,
     "metadata": {},
     "output_type": "execute_result"
    }
   ],
   "source": [
    "' '.join(new_sentence)"
   ]
  },
  {
   "cell_type": "code",
   "execution_count": null,
   "metadata": {},
   "outputs": [],
   "source": []
  }
 ],
 "metadata": {
  "kernelspec": {
   "display_name": "Python 3",
   "language": "python",
   "name": "python3"
  },
  "language_info": {
   "codemirror_mode": {
    "name": "ipython",
    "version": 3
   },
   "file_extension": ".py",
   "mimetype": "text/x-python",
   "name": "python",
   "nbconvert_exporter": "python",
   "pygments_lexer": "ipython3",
   "version": "3.7.3"
  }
 },
 "nbformat": 4,
 "nbformat_minor": 4
}
